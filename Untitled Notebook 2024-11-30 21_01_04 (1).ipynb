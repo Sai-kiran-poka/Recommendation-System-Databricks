{
 "cells": [
  {
   "cell_type": "markdown",
   "metadata": {
    "application/vnd.databricks.v1+cell": {
     "cellMetadata": {
      "byteLimit": 2048000,
      "rowLimit": 10000
     },
     "inputWidgets": {},
     "nuid": "2b916f26-b5bb-4642-8f0a-8982fde1c6b0",
     "showTitle": false,
     "tableResultSettingsMap": {},
     "title": ""
    }
   },
   "source": [
    "#Pipeline Overview\n",
    "\n",
    "**Input:**\n",
    "**Dataset:**\n",
    "\n",
    "**events.csv:** Contains user interaction events (e.g., view, addtocart, transaction).\n",
    "\n",
    "**item_properties_part1.csv & item_properties_part2.csv:** Contain additional attributes of items.\n",
    "\n",
    "**category_tree.csv:** Hierarchical data about categories.\n",
    "Features:\n",
    "\n",
    "**visitorid:** Unique identifier for users.\n",
    "\n",
    "**itemid:** Unique identifier for items.\n",
    "\n",
    "**timestamp:** Interaction timestamp.\n",
    "\n",
    "**categoryid:** Encoded from item properties and category tree.\n",
    "\n",
    "**Target:**\n",
    "\n",
    "**event:** Multiclass variable (view, addtocart, transaction).\n",
    "\n",
    "**Output:**\n",
    "\n",
    "**Trained Model:**\n",
    "\n",
    "The best-performing classifier \n",
    "Saved for future deployment.\n",
    "\n",
    "**Evaluation Metrics:**\n",
    "\n",
    "Accuracy, F1 Score, Precision, Recall.\n",
    "Confusion matrix."
   ]
  },
  {
   "cell_type": "markdown",
   "metadata": {
    "application/vnd.databricks.v1+cell": {
     "cellMetadata": {
      "byteLimit": 2048000,
      "rowLimit": 10000
     },
     "inputWidgets": {},
     "nuid": "e25ce8b4-cf50-482e-94a7-f952e494a341",
     "showTitle": false,
     "tableResultSettingsMap": {},
     "title": ""
    }
   },
   "source": [
    " **Load and Inspect Data**"
   ]
  },
  {
   "cell_type": "code",
   "execution_count": 0,
   "metadata": {
    "application/vnd.databricks.v1+cell": {
     "cellMetadata": {
      "byteLimit": 2048000,
      "rowLimit": 10000
     },
     "inputWidgets": {},
     "nuid": "add178c4-593a-4a98-93ba-e015d009dde6",
     "showTitle": false,
     "tableResultSettingsMap": {},
     "title": ""
    }
   },
   "outputs": [
    {
     "output_type": "stream",
     "name": "stdout",
     "output_type": "stream",
     "text": [
      "+-------------+---------+-----+------+-------------+\n|    timestamp|visitorid|event|itemid|transactionid|\n+-------------+---------+-----+------+-------------+\n|1433221332117|   257597| view|355908|         null|\n|1433224214164|   992329| view|248676|         null|\n|1433221999827|   111016| view|318965|         null|\n|1433221955914|   483717| view|253185|         null|\n|1433221337106|   951259| view|367447|         null|\n+-------------+---------+-----+------+-------------+\nonly showing top 5 rows\n\n+-------------+------+----------+--------------------+\n|    timestamp|itemid|  property|               value|\n+-------------+------+----------+--------------------+\n|1435460400000|460429|categoryid|                1338|\n|1441508400000|206783|       888|1116713 960601 n2...|\n|1439089200000|395014|       400|n552.000 639502 n...|\n|1431226800000| 59481|       790|          n15360.000|\n|1431831600000|156781|       917|              828513|\n+-------------+------+----------+--------------------+\nonly showing top 5 rows\n\n+-------------+------+--------+---------------+\n|    timestamp|itemid|property|          value|\n+-------------+------+--------+---------------+\n|1433041200000|183478|     561|         769062|\n|1439694000000|132256|     976|n26.400 1135780|\n|1435460400000|420307|     921|1149317 1257525|\n|1431831600000|403324|     917|        1204143|\n|1435460400000|230701|     521|         769062|\n+-------------+------+--------+---------------+\nonly showing top 5 rows\n\n+----------+--------+\n|categoryid|parentid|\n+----------+--------+\n|      1016|     213|\n|       809|     169|\n|       570|       9|\n|      1691|     885|\n|       536|    1691|\n+----------+--------+\nonly showing top 5 rows\n\n"
     ]
    }
   ],
   "source": [
    "# Load the data\n",
    "events_file_path = \"/FileStore/tables/ERS/events.csv\"\n",
    "item_properties_part1_path = \"/FileStore/tables/ERS/item_properties_part1.csv\"\n",
    "item_properties_part2_path = \"/FileStore/tables/ERS/item_properties_part2.csv\"\n",
    "category_tree_path = \"/FileStore/tables/ERS/category_tree.csv\"\n",
    "\n",
    "events_df = spark.read.csv(events_file_path, header=True, inferSchema=True)\n",
    "item_properties_part1_df = spark.read.csv(item_properties_part1_path, header=True, inferSchema=True)\n",
    "item_properties_part2_df = spark.read.csv(item_properties_part2_path, header=True, inferSchema=True)\n",
    "category_tree_df = spark.read.csv(category_tree_path, header=True, inferSchema=True)\n",
    "\n",
    "# Display sample data\n",
    "events_df.show(5)\n",
    "item_properties_part1_df.show(5)\n",
    "item_properties_part2_df.show(5)\n",
    "category_tree_df.show(5)\n"
   ]
  },
  {
   "cell_type": "code",
   "execution_count": 0,
   "metadata": {
    "application/vnd.databricks.v1+cell": {
     "cellMetadata": {
      "byteLimit": 2048000,
      "rowLimit": 10000
     },
     "inputWidgets": {},
     "nuid": "16d6d2ff-7de2-46ad-b875-e6ea1c50344b",
     "showTitle": false,
     "tableResultSettingsMap": {},
     "title": ""
    }
   },
   "outputs": [
    {
     "output_type": "stream",
     "name": "stdout",
     "output_type": "stream",
     "text": [
      "+-------+--------------------+-----------------+---------+------------------+-----------------+\n|summary|           timestamp|        visitorid|    event|            itemid|    transactionid|\n+-------+--------------------+-----------------+---------+------------------+-----------------+\n|  count|             2756101|          2756101|  2756101|           2756101|            22457|\n|   mean|1.436424488348112...|701922.8832292431|     null| 234922.4783750668|8826.497795787505|\n| stddev|3.3663121800168505E9|405687.5208087459|     null|134195.42521364646|5098.996289874063|\n|    min|       1430622004384|                0|addtocart|                 3|                0|\n|    max|       1442545187788|          1407579|     view|            466867|            17671|\n+-------+--------------------+-----------------+---------+------------------+-----------------+\n\nNull values in timestamp: 0\nNull values in visitorid: 0\nNull values in event: 0\nNull values in itemid: 0\nNull values in transactionid: 2733644\n+-----------+-------+\n|      event|  count|\n+-----------+-------+\n|transaction|  22457|\n|  addtocart|  69332|\n|       view|2664312|\n+-----------+-------+\n\n"
     ]
    }
   ],
   "source": [
    "# Display dataset summary\n",
    "events_df.describe().show()\n",
    "\n",
    "# Check for null values\n",
    "for col in events_df.columns:\n",
    "    print(f\"Null values in {col}: {events_df.filter(events_df[col].isNull()).count()}\")\n",
    "\n",
    "# Class distribution\n",
    "events_df.groupBy(\"event\").count().show()\n"
   ]
  },
  {
   "cell_type": "markdown",
   "metadata": {
    "application/vnd.databricks.v1+cell": {
     "cellMetadata": {
      "byteLimit": 2048000,
      "rowLimit": 10000
     },
     "inputWidgets": {},
     "nuid": "e94486fe-40d5-45d2-961b-c71aa4b6c415",
     "showTitle": false,
     "tableResultSettingsMap": {},
     "title": ""
    }
   },
   "source": [
    "**Data Cleaning and Feature Engineering**"
   ]
  },
  {
   "cell_type": "code",
   "execution_count": 0,
   "metadata": {
    "application/vnd.databricks.v1+cell": {
     "cellMetadata": {
      "byteLimit": 2048000,
      "rowLimit": 10000
     },
     "inputWidgets": {},
     "nuid": "e6bf7bcd-e788-415b-8139-2dda6e8bde85",
     "showTitle": false,
     "tableResultSettingsMap": {},
     "title": ""
    }
   },
   "outputs": [],
   "source": [
    "# Remove duplicates\n",
    "events_df = events_df.dropDuplicates()\n",
    "item_properties_df = item_properties_part1_df.union(item_properties_part2_df).dropDuplicates()\n",
    "category_tree_df = category_tree_df.dropDuplicates()\n",
    "\n",
    "# Join item properties and category tree with events\n",
    "category_properties_df = item_properties_df.filter(item_properties_df.property == 'categoryid') \\\n",
    "                                           .select(\"itemid\", item_properties_df.value.alias(\"categoryid\"))\n",
    "\n",
    "events_with_properties = events_df.join(category_properties_df, on=\"itemid\", how=\"left\")\n",
    "events_with_category = events_with_properties.join(category_tree_df, on=\"categoryid\", how=\"left\")\n",
    "\n",
    "# Handle missing values\n",
    "events_with_category = events_with_category.fillna({\"categoryid\": 0})\n"
   ]
  },
  {
   "cell_type": "markdown",
   "metadata": {
    "application/vnd.databricks.v1+cell": {
     "cellMetadata": {
      "byteLimit": 2048000,
      "rowLimit": 10000
     },
     "inputWidgets": {},
     "nuid": "88bfe1d5-c80e-4e05-807b-809efcaf731c",
     "showTitle": false,
     "tableResultSettingsMap": {},
     "title": ""
    }
   },
   "source": [
    "**Label Encoding and Feature Vectorization**"
   ]
  },
  {
   "cell_type": "code",
   "execution_count": 0,
   "metadata": {
    "application/vnd.databricks.v1+cell": {
     "cellMetadata": {
      "byteLimit": 2048000,
      "rowLimit": 10000
     },
     "inputWidgets": {},
     "nuid": "b055bb31-078e-452d-a2d3-7f21d5b6400a",
     "showTitle": false,
     "tableResultSettingsMap": {},
     "title": ""
    }
   },
   "outputs": [],
   "source": [
    "from pyspark.ml.feature import StringIndexer, VectorAssembler\n",
    "\n",
    "# Drop the existing 'label' column if it exists\n",
    "if \"label\" in events_with_category.columns:\n",
    "    events_with_category = events_with_category.drop(\"label\")\n",
    "\n",
    "# Encode the target variable (event type to numeric label)\n",
    "event_indexer = StringIndexer(inputCol=\"event\", outputCol=\"label\").fit(events_with_category)\n",
    "events_with_category = event_indexer.transform(events_with_category)\n",
    "\n",
    "# Encode the 'categoryid' column to numeric\n",
    "categoryid_indexer = StringIndexer(inputCol=\"categoryid\", outputCol=\"categoryidIndex\").fit(events_with_category)\n",
    "events_with_category = categoryid_indexer.transform(events_with_category)\n",
    "\n",
    "# Assemble features (use the encoded category ID instead of the string column)\n",
    "feature_cols = [\"visitorid\", \"itemid\", \"timestamp\", \"categoryidIndex\"]  # Add other relevant features\n",
    "assembler = VectorAssembler(inputCols=feature_cols, outputCol=\"features\")\n",
    "final_df = assembler.transform(events_with_category).select(\"features\", \"label\")\n"
   ]
  },
  {
   "cell_type": "markdown",
   "metadata": {
    "application/vnd.databricks.v1+cell": {
     "cellMetadata": {
      "byteLimit": 2048000,
      "rowLimit": 10000
     },
     "inputWidgets": {},
     "nuid": "55f8b80b-c360-4a0c-ac1b-487d84c81264",
     "showTitle": false,
     "tableResultSettingsMap": {},
     "title": ""
    }
   },
   "source": [
    "**Splitting the Data into Training and Testing Sets**"
   ]
  },
  {
   "cell_type": "code",
   "execution_count": 0,
   "metadata": {
    "application/vnd.databricks.v1+cell": {
     "cellMetadata": {
      "byteLimit": 2048000,
      "rowLimit": 10000
     },
     "inputWidgets": {},
     "nuid": "bd620d1e-dda9-46b2-8587-b3437df355c4",
     "showTitle": false,
     "tableResultSettingsMap": {},
     "title": ""
    }
   },
   "outputs": [],
   "source": [
    "# Split the data into training (80%) and testing (20%) sets\n",
    "train_data, test_data = final_df.randomSplit([0.8, 0.2], seed=42)\n"
   ]
  },
  {
   "cell_type": "markdown",
   "metadata": {
    "application/vnd.databricks.v1+cell": {
     "cellMetadata": {
      "byteLimit": 2048000,
      "rowLimit": 10000
     },
     "inputWidgets": {},
     "nuid": "da3b518d-010d-4b40-a906-8bfd8b4382ce",
     "showTitle": false,
     "tableResultSettingsMap": {},
     "title": ""
    }
   },
   "source": [
    "**Training and Evaluating Multiple Models**"
   ]
  },
  {
   "cell_type": "code",
   "execution_count": 0,
   "metadata": {
    "application/vnd.databricks.v1+cell": {
     "cellMetadata": {
      "byteLimit": 2048000,
      "rowLimit": 10000
     },
     "inputWidgets": {},
     "nuid": "fec7f130-bff8-48d9-acfb-514d929c1afe",
     "showTitle": false,
     "tableResultSettingsMap": {},
     "title": ""
    }
   },
   "outputs": [
    {
     "output_type": "stream",
     "name": "stdout",
     "output_type": "stream",
     "text": [
      "Training Logistic Regression...\nTraining Decision Tree...\nTraining Random Forest...\n+-------------------+------------------+\n|              Model|          Accuracy|\n+-------------------+------------------+\n|Logistic Regression|0.9671872047132323|\n|      Decision Tree|0.9671795775751972|\n|      Random Forest|0.9671872047132323|\n+-------------------+------------------+\n\n"
     ]
    }
   ],
   "source": [
    "from pyspark.ml.classification import LogisticRegression, DecisionTreeClassifier, RandomForestClassifier, GBTClassifier\n",
    "from pyspark.ml.evaluation import MulticlassClassificationEvaluator\n",
    "\n",
    "models = {\n",
    "    \"Logistic Regression\": LogisticRegression(featuresCol=\"features\", labelCol=\"label\"),\n",
    "    \"Decision Tree\": DecisionTreeClassifier(featuresCol=\"features\", labelCol=\"label\", maxBins=1200),\n",
    "    \"Random Forest\": RandomForestClassifier(featuresCol=\"features\", labelCol=\"label\", maxBins=1200)\n",
    "}\n",
    "\n",
    "# Train and evaluate the remaining models\n",
    "evaluator = MulticlassClassificationEvaluator(labelCol=\"label\", predictionCol=\"prediction\", metricName=\"accuracy\")\n",
    "results = []\n",
    "\n",
    "for model_name, model in models.items():\n",
    "    print(f\"Training {model_name}...\")\n",
    "    trained_model = model.fit(train_data)\n",
    "    predictions = trained_model.transform(test_data)\n",
    "    accuracy = evaluator.evaluate(predictions)\n",
    "    results.append((model_name, accuracy))\n",
    "\n",
    "# Display results\n",
    "results_df = spark.createDataFrame(results, [\"Model\", \"Accuracy\"])\n",
    "results_df.show()"
   ]
  },
  {
   "cell_type": "markdown",
   "metadata": {
    "application/vnd.databricks.v1+cell": {
     "cellMetadata": {
      "byteLimit": 2048000,
      "rowLimit": 10000
     },
     "inputWidgets": {},
     "nuid": "604d85e9-8681-4cf2-b68b-167e6ff8f18a",
     "showTitle": false,
     "tableResultSettingsMap": {},
     "title": ""
    }
   },
   "source": [
    "**Analyze Model Performance**"
   ]
  },
  {
   "cell_type": "code",
   "execution_count": 0,
   "metadata": {
    "application/vnd.databricks.v1+cell": {
     "cellMetadata": {
      "byteLimit": 2048000,
      "rowLimit": 10000
     },
     "inputWidgets": {},
     "nuid": "aa8f6eb3-59f8-479f-8fa2-1cc857d6fb2a",
     "showTitle": false,
     "tableResultSettingsMap": {},
     "title": ""
    }
   },
   "outputs": [
    {
     "output_type": "stream",
     "name": "stdout",
     "output_type": "stream",
     "text": [
      "F1 Score: 0.9511\nPrecision: 0.9355\nRecall: 0.9672\n"
     ]
    }
   ],
   "source": [
    "from pyspark.ml.evaluation import MulticlassClassificationEvaluator\n",
    "\n",
    "# Evaluate Precision, Recall, and F1-Score for Random Forest (as an example)\n",
    "evaluator_f1 = MulticlassClassificationEvaluator(labelCol=\"label\", predictionCol=\"prediction\", metricName=\"f1\")\n",
    "evaluator_precision = MulticlassClassificationEvaluator(labelCol=\"label\", predictionCol=\"prediction\", metricName=\"weightedPrecision\")\n",
    "evaluator_recall = MulticlassClassificationEvaluator(labelCol=\"label\", predictionCol=\"prediction\", metricName=\"weightedRecall\")\n",
    "\n",
    "f1 = evaluator_f1.evaluate(predictions)  # Predictions from Random Forest\n",
    "precision = evaluator_precision.evaluate(predictions)\n",
    "recall = evaluator_recall.evaluate(predictions)\n",
    "\n",
    "print(f\"F1 Score: {f1:.4f}\")\n",
    "print(f\"Precision: {precision:.4f}\")\n",
    "print(f\"Recall: {recall:.4f}\")\n"
   ]
  },
  {
   "cell_type": "code",
   "execution_count": 0,
   "metadata": {
    "application/vnd.databricks.v1+cell": {
     "cellMetadata": {
      "byteLimit": 2048000,
      "rowLimit": 10000
     },
     "inputWidgets": {},
     "nuid": "d07693fc-d38e-4a9b-937b-0dd748932c2d",
     "showTitle": false,
     "tableResultSettingsMap": {},
     "title": ""
    }
   },
   "outputs": [],
   "source": [
    "best_model = RandomForestClassifier(featuresCol=\"features\", labelCol=\"label\", maxBins=1200).fit(train_data)\n",
    "best_model.write().overwrite().save(\"/mnt/data/best_model_rf\")\n"
   ]
  },
  {
   "cell_type": "code",
   "execution_count": 0,
   "metadata": {
    "application/vnd.databricks.v1+cell": {
     "cellMetadata": {
      "byteLimit": 2048000,
      "rowLimit": 10000
     },
     "inputWidgets": {},
     "nuid": "1a526bbf-6376-42b3-84f2-8445190989df",
     "showTitle": false,
     "tableResultSettingsMap": {},
     "title": ""
    }
   },
   "outputs": [
    {
     "output_type": "display_data",
     "data": {
      "application/vnd.databricks.v1+bamboolib_hint": "{\"pd.DataFrames\": [], \"version\": \"0.0.1\"}",
      "text/plain": []
     },
     "metadata": {},
     "output_type": "display_data"
    },
    {
     "output_type": "display_data",
     "data": {
      "image/png": "[encoded data removed]"
     },
     "metadata": {
      "application/vnd.databricks.v1+output": {
       "addedWidgets": {},
       "arguments": {},
       "data": "data:image/png;base64,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\n",
       "datasetInfos": [],
       "metadata": {},
       "removedWidgets": [],
       "type": "image"
      }
     },
     "output_type": "display_data"
    }
   ],
   "source": [
    "# Convert to Pandas for visualization\n",
    "import pandas as pd\n",
    "import matplotlib.pyplot as plt\n",
    "results_pd = pd.DataFrame(results, columns=[\"Model\", \"Accuracy\"])\n",
    "\n",
    "# Accuracy Bar Chart\n",
    "results_pd.plot(kind='bar', x='Model', y='Accuracy', legend=False, title='Model Accuracy')\n",
    "plt.ylabel('Accuracy')\n",
    "plt.show()\n"
   ]
  },
  {
   "cell_type": "markdown",
   "metadata": {
    "application/vnd.databricks.v1+cell": {
     "cellMetadata": {
      "byteLimit": 2048000,
      "rowLimit": 10000
     },
     "inputWidgets": {},
     "nuid": "71be98db-e5ab-4bb8-a25e-285a018a4759",
     "showTitle": false,
     "tableResultSettingsMap": {},
     "title": ""
    }
   },
   "source": [
    "#Collaborative Filtering with ALS\n",
    "\n"
   ]
  },
  {
   "cell_type": "code",
   "execution_count": 0,
   "metadata": {
    "application/vnd.databricks.v1+cell": {
     "cellMetadata": {
      "byteLimit": 2048000,
      "rowLimit": 10000
     },
     "inputWidgets": {},
     "nuid": "5430a530-ee62-4cb8-99bd-f028fe9c9a29",
     "showTitle": false,
     "tableResultSettingsMap": {},
     "title": ""
    }
   },
   "outputs": [
    {
     "output_type": "stream",
     "name": "stdout",
     "output_type": "stream",
     "text": [
      "ALS Model RMSE: 0.22204166596536992\n"
     ]
    }
   ],
   "source": [
    "# Keep visitorid, itemid, and label for ALS\n",
    "als_data = events_with_category.select(\"visitorid\", \"itemid\", \"label\")\n",
    "\n",
    "# Split the ALS-specific data\n",
    "train_data, test_data = als_data.randomSplit([0.8, 0.2], seed=42)\n",
    "\n",
    "# Define and train the ALS model\n",
    "als = ALS(maxIter=10, regParam=0.01, userCol=\"visitorid\", itemCol=\"itemid\", ratingCol=\"label\", coldStartStrategy=\"drop\")\n",
    "als_model = als.fit(train_data)\n",
    "\n",
    "# Generate Recommendations\n",
    "user_recommendations = als_model.recommendForAllUsers(10)  # Top 10 recommendations per user\n",
    "item_recommendations = als_model.recommendForAllItems(10)  # Top 10 users per item\n",
    "\n",
    "# Evaluate ALS\n",
    "evaluator = RegressionEvaluator(metricName=\"rmse\", labelCol=\"label\", predictionCol=\"prediction\")\n",
    "rmse = evaluator.evaluate(als_model.transform(test_data))\n",
    "print(f\"ALS Model RMSE: {rmse}\")\n"
   ]
  },
  {
   "cell_type": "markdown",
   "metadata": {
    "application/vnd.databricks.v1+cell": {
     "cellMetadata": {
      "byteLimit": 2048000,
      "rowLimit": 10000
     },
     "inputWidgets": {},
     "nuid": "8d39d593-80ad-4781-ab19-2e7a1e3124fe",
     "showTitle": false,
     "tableResultSettingsMap": {},
     "title": ""
    }
   },
   "source": [
    "#Visualizing Model Performance\n",
    "\n"
   ]
  },
  {
   "cell_type": "code",
   "execution_count": 0,
   "metadata": {
    "application/vnd.databricks.v1+cell": {
     "cellMetadata": {
      "byteLimit": 2048000,
      "rowLimit": 10000
     },
     "inputWidgets": {},
     "nuid": "4276bb3d-e4e2-4c5b-87b1-73939080760d",
     "showTitle": false,
     "tableResultSettingsMap": {},
     "title": ""
    }
   },
   "outputs": [],
   "source": [
    "import matplotlib.pyplot as plt\n",
    "\n",
    "# Plot Accuracy\n",
    "df_metrics = pd.DataFrame(metrics)\n",
    "df_metrics.plot(kind=\"bar\", x=\"Model\", y=\"Accuracy\", legend=False, title=\"Model Accuracy\")\n",
    "plt.ylabel(\"Accuracy\")\n",
    "plt.show()\n",
    "user_recommendations.show()\n",
    "item_recommendations.show()\n"
   ]
  },
  {
   "cell_type": "markdown",
   "metadata": {
    "application/vnd.databricks.v1+cell": {
     "cellMetadata": {
      "byteLimit": 2048000,
      "rowLimit": 10000
     },
     "inputWidgets": {},
     "nuid": "15db1a01-8162-4e62-9688-cbf84e9d925c",
     "showTitle": false,
     "tableResultSettingsMap": {},
     "title": ""
    }
   },
   "source": []
  }
 ],
 "metadata": {
  "application/vnd.databricks.v1+notebook": {
   "dashboards": [],
   "environmentMetadata": null,
   "language": "python",
   "notebookMetadata": {
    "pythonIndentUnit": 4
   },
   "notebookName": "Untitled Notebook 2024-11-30 21:01:04",
   "widgets": {}
  }
 },
 "nbformat": 4,
 "nbformat_minor": 0
}
